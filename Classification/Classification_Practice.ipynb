{
  "nbformat": 4,
  "nbformat_minor": 0,
  "metadata": {
    "colab": {
      "provenance": [],
      "toc_visible": true
    },
    "kernelspec": {
      "name": "python3",
      "display_name": "Python 3"
    },
    "language_info": {
      "name": "python"
    }
  },
  "cells": [
    {
      "cell_type": "markdown",
      "source": [
        "Problem Statement:\n",
        "\n",
        "**Suppose you are a data scientist working for a bank that recently conducted a marketing campaign to promote term deposits to its clients. The bank collected data on various client characteristics, such as age, job type, marital status, education level, and more. Your task is to analyze this dataset and build a machine learning model to predict whether a client will subscribe to a term deposit or not.**\n",
        "\n",
        "--------------------------------------------------------------------------------\n",
        "\n",
        "\n",
        "**By accurately predicting client subscription behavior, your model will enable the bank to optimize its marketing efforts. It will help identify potential clients who are more likely to subscribe to the term deposit, allowing the bank to focus its resources on targeting these individuals. This targeted approach will not only increase the effectiveness of the marketing campaign but also maximize the bank's return on investment.**"
      ],
      "metadata": {
        "id": "tawgZEiu-rx-"
      }
    },
    {
      "cell_type": "markdown",
      "source": [
        "# Importing required libraries"
      ],
      "metadata": {
        "id": "HN0GSwQS_HUU"
      }
    },
    {
      "cell_type": "code",
      "execution_count": null,
      "metadata": {
        "id": "I6mPd94Hy2zu"
      },
      "outputs": [],
      "source": [
        "import pandas as pd\n",
        "import numpy as np\n",
        "from sklearn.linear_model import LogisticRegression\n",
        "from sklearn.model_selection import train_test_split\n",
        "from sklearn.metrics import accuracy_score\n",
        "from sklearn.preprocessing import PolynomialFeatures\n",
        "from sklearn.pipeline import make_pipeline\n",
        "#import all necessary libraries"
      ]
    },
    {
      "cell_type": "markdown",
      "source": [
        "## Upload data to colab and Read data"
      ],
      "metadata": {
        "id": "cDK_wVtZ68S4"
      }
    },
    {
      "cell_type": "code",
      "source": [
        "import pandas as pd\n",
        "# Reading the csv\n",
        "\n",
        "# Write your code here::: Read the csv file. Hint: to read it perfectly or to load it perfectly in the dataframe you will need a seperator.\n",
        "\n",
        "df = pd.read_csv('/content/bank-additional-full.csv')\n",
        "df.head()"
      ],
      "metadata": {
        "id": "5QBKx7Cj6yIi"
      },
      "execution_count": null,
      "outputs": []
    },
    {
      "cell_type": "markdown",
      "source": [
        "## Data Introduction"
      ],
      "metadata": {
        "id": "0pC26-ZR7G7d"
      }
    },
    {
      "cell_type": "markdown",
      "source": [
        "## Understand the data columns\n",
        "1. Check if there are missing values and decide either to impute or drop them\n",
        "2. Understand descriptive statistics of each columns\n",
        "3. Understand descriptive statistics of each column using pandas descibe\n",
        "https://pandas.pydata.org/docs/reference/api/pandas.DataFrame.describe.html\n",
        "\n",
        "By default describe returns numerical columns. How do you also understand descriptive statistics for non numerical columns?"
      ],
      "metadata": {
        "id": "uif1603J6teL"
      }
    },
    {
      "cell_type": "code",
      "source": [
        "df.columns"
      ],
      "metadata": {
        "id": "gpQM89v37HTM"
      },
      "execution_count": null,
      "outputs": []
    },
    {
      "cell_type": "code",
      "source": [
        "df.shape"
      ],
      "metadata": {
        "id": "jfTBSGev7SL3"
      },
      "execution_count": null,
      "outputs": []
    },
    {
      "cell_type": "code",
      "source": [
        "# Write you code here:: to check if there is any missing value for every feature.\n",
        "\n"
      ],
      "metadata": {
        "id": "eip8zWf97k6_"
      },
      "execution_count": null,
      "outputs": []
    },
    {
      "cell_type": "code",
      "source": [
        "#your code here"
      ],
      "metadata": {
        "id": "O2uBg4nM7m_q"
      },
      "execution_count": null,
      "outputs": []
    },
    {
      "cell_type": "code",
      "source": [
        "# Keep only those features with less than 20% of missing values\n"
      ],
      "metadata": {
        "id": "3HFOHLIc7pVZ"
      },
      "execution_count": null,
      "outputs": []
    },
    {
      "cell_type": "markdown",
      "source": [
        "## Please do the following steps\n",
        "\n",
        "1. Begin by conducting exploratory data analysis (EDA) to gain a comprehensive understanding of the dataset. Visualize the data, compute summary statistics, and identify any patterns or insights.\n",
        "\n",
        "-------------------------------------------------------------------------------\n",
        "\n",
        "\n",
        "2. Preprocess the dataset by handling missing values, addressing categorical variables, and performing necessary data transformations. This step ensures that the data is in a suitable format for machine learning algorithms.\n",
        "\n",
        "-------------------------------------------------------------------------------\n",
        "\n",
        "3. Split the dataset into training and testing sets for model evaluation purposes"
      ],
      "metadata": {
        "id": "GtOGJGNX_SK0"
      }
    },
    {
      "cell_type": "markdown",
      "source": [
        "## EDA"
      ],
      "metadata": {
        "id": "41tRY2PM8Tqj"
      }
    },
    {
      "cell_type": "code",
      "source": [
        "df.isnull().sum()"
      ],
      "metadata": {
        "id": "gJcHf9Zk75hj"
      },
      "execution_count": null,
      "outputs": []
    },
    {
      "cell_type": "code",
      "source": [
        "\n",
        "# Write you code here::::: a countplot, take X-axis as \"y\"(from data)  \n",
        "\n"
      ],
      "metadata": {
        "id": "UbHT-tYR8VIT"
      },
      "execution_count": null,
      "outputs": []
    },
    {
      "cell_type": "markdown",
      "source": [
        "# Feature transformation / Pre processing"
      ],
      "metadata": {
        "id": "Orze22fP7Yvd"
      }
    },
    {
      "cell_type": "code",
      "source": [
        "# Write you code here::::: a countplot, take X-axis as \"y\"(from data)  \n",
        "\n"
      ],
      "metadata": {
        "id": "laxB9RCZ7Zaj"
      },
      "execution_count": null,
      "outputs": []
    },
    {
      "cell_type": "markdown",
      "source": [],
      "metadata": {
        "id": "myKFQTpr7YrG"
      }
    },
    {
      "cell_type": "code",
      "source": [
        "# Write you code here::::: a countplot, take X-axis as \"y\"(from data)  \n",
        "\n"
      ],
      "metadata": {
        "id": "ZyJLpCIT7Zza"
      },
      "execution_count": null,
      "outputs": []
    },
    {
      "cell_type": "markdown",
      "source": [
        "Train and evaluate various classification models, such as logistic regression, support vector machines etc. Compare the performance of these models to identify the most accurate one for the task at hand.\n",
        "\n",
        "-------------------------------------------------------------------------------\n",
        "\n",
        "Fine-tune the selected model by adjusting hyperparameters. Use regularization techniques.\n",
        "\n",
        "Ensure you transform the labels and feature data before you do this step"
      ],
      "metadata": {
        "id": "DfF_dkM-_ci1"
      }
    },
    {
      "cell_type": "markdown",
      "source": [
        "## Model"
      ],
      "metadata": {
        "id": "7AxAc8HA_IhE"
      }
    },
    {
      "cell_type": "markdown",
      "source": [
        "**Logistic Regression**\n",
        "(Example provided)\n",
        "Please ensure you use the right metric to evaluate classifer"
      ],
      "metadata": {
        "id": "C6ZqAXS9AOsr"
      }
    },
    {
      "cell_type": "code",
      "source": [
        "# Fit a logistic regression model to the training data\n",
        "model = LogisticRegression(random_state = 42, max_iter = 1)\n",
        "model.fit(X_train, y_train)\n",
        "\n",
        "# Predict the rise and fall of crypto on the testing data\n",
        "y_pred = model.predict(X_test)\n",
        "\n",
        "# Compute the accuracy of the model\n",
        "accuracy = accuracy_score(y_test, y_pred)\n",
        "print('Accuracy:', accuracy)"
      ],
      "metadata": {
        "id": "xdUMSyVl_ai4"
      },
      "execution_count": null,
      "outputs": []
    },
    {
      "cell_type": "code",
      "source": [
        "# Write you code here::::: a countplot, take X-axis as \"y\"(from data)  \n",
        "\n"
      ],
      "metadata": {
        "id": "HT7_zWj-_afW"
      },
      "execution_count": null,
      "outputs": []
    },
    {
      "cell_type": "markdown",
      "source": [
        "**Write a report**\n",
        "\n",
        "\n",
        "Assess the model's performance using appropriate evaluation metrics such as accuracy, precision, recall, and F1-score. This evaluation will provide insights into how well the model can predict client subscription behavior.\n",
        "\n",
        "\n",
        "Finally, present your findings and recommendations in a comprehensive report. Include details about the model's predictions, feature importance, and any potential insights gained from the analysis. Conclude the report with actionable recommendations for the bank based on the developed model.\n",
        "\n",
        "\n",
        "As a data scientist, your deliverables will consist of a well-documented Jupyter Notebook or Python script that showcases your analysis, modeling approach, evaluation results, and conclusions. Additionally, prepare a comprehensive report summarizing your findings and recommendations for the bank based on the insights gained from the developed model."
      ],
      "metadata": {
        "id": "EQCaccR3_0gM"
      }
    },
    {
      "cell_type": "code",
      "source": [],
      "metadata": {
        "id": "5AAuY0oc8lZw"
      },
      "execution_count": null,
      "outputs": []
    },
    {
      "cell_type": "code",
      "source": [],
      "metadata": {
        "id": "DONsqwfR8lXL"
      },
      "execution_count": null,
      "outputs": []
    }
  ]
}